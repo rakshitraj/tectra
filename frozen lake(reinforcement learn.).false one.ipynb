{
 "cells": [
  {
   "cell_type": "code",
   "execution_count": 7,
   "metadata": {},
   "outputs": [
    {
     "ename": "TypeError",
     "evalue": "'type' object is not subscriptable",
     "output_type": "error",
     "traceback": [
      "\u001b[0;31m---------------------------------------------------------------------------\u001b[0m",
      "\u001b[0;31mTypeError\u001b[0m                                 Traceback (most recent call last)",
      "\u001b[0;32m<ipython-input-7-8e9295340ec3>\u001b[0m in \u001b[0;36m<module>\u001b[0;34m()\u001b[0m\n\u001b[1;32m     11\u001b[0m \u001b[0;31m#creating list having  all rewards and steps per episode\u001b[0m\u001b[0;34m\u001b[0m\u001b[0;34m\u001b[0m\u001b[0m\n\u001b[1;32m     12\u001b[0m \u001b[0mrlist\u001b[0m \u001b[0;34m=\u001b[0m \u001b[0;34m[\u001b[0m\u001b[0;34m]\u001b[0m \u001b[0;31m# r -reward\u001b[0m\u001b[0;34m\u001b[0m\u001b[0m\n\u001b[0;32m---> 13\u001b[0;31m \u001b[0;32mfor\u001b[0m \u001b[0mi\u001b[0m \u001b[0;32min\u001b[0m \u001b[0mrange\u001b[0m\u001b[0;34m[\u001b[0m\u001b[0mnum_episodes\u001b[0m\u001b[0;34m]\u001b[0m\u001b[0;34m:\u001b[0m\u001b[0;34m\u001b[0m\u001b[0m\n\u001b[0m\u001b[1;32m     14\u001b[0m     \u001b[0;31m#reset the environment & get first observation\u001b[0m\u001b[0;34m\u001b[0m\u001b[0;34m\u001b[0m\u001b[0m\n\u001b[1;32m     15\u001b[0m     \u001b[0menv\u001b[0m\u001b[0;34m.\u001b[0m\u001b[0mrender\u001b[0m\u001b[0;34m(\u001b[0m\u001b[0;34m)\u001b[0m\u001b[0;34m\u001b[0m\u001b[0m\n",
      "\u001b[0;31mTypeError\u001b[0m: 'type' object is not subscriptable"
     ]
    }
   ],
   "source": [
    "#creating environment\n",
    "import gym\n",
    "import numpy as np\n",
    "env = gym.make('FrozenLake-v0')\n",
    "#initialize the Q table\n",
    "Q = np.zeros([env.observation_space.n , env.action_space.n])\n",
    "#setting learning parameters.\n",
    "lr = 0.8\n",
    "y = 0.95\n",
    "num_episodes = 2000\n",
    "#creating list having  all rewards and steps per episode\n",
    "rlist = [] # r -reward \n",
    "for i in range[num_episodes]:\n",
    "    #reset the environment & get first observation\n",
    "    env.render()\n",
    "    s = env.reset()\n",
    "    rall = 0\n",
    "    d = False\n",
    "    j = 0\n",
    "    #Q-learning\n",
    "    while j < 99:\n",
    "        j+=1\n",
    "    #choosing action greedly\n",
    "        a = np.argmax(Q[s,:]) + np.random.randn(1,env.action_space.n)*(1./(i+1))\n",
    "    #getting new step and reward\n",
    "        s1,r,d,_ =  env.step(a)\n",
    "    #update the Q-table\n",
    "        Q[s,a] = Q[s,a]+lr*(r+y*np.max(Q[s1,:]-Q[s,a]))\n",
    "        rall+=r\n",
    "        s=s1\n",
    "        if d== True:\n",
    "            break\n",
    "        #list append\n",
    "        rlist.append(rall)\n",
    "print('score over time:' + str(num(rlist)/num_episodes))\n",
    "print('final Q table:')\n",
    "print(Q)"
   ]
  },
  {
   "cell_type": "code",
   "execution_count": null,
   "metadata": {},
   "outputs": [],
   "source": []
  }
 ],
 "metadata": {
  "kernelspec": {
   "display_name": "Python 3",
   "language": "python",
   "name": "python3"
  },
  "language_info": {
   "codemirror_mode": {
    "name": "ipython",
    "version": 3
   },
   "file_extension": ".py",
   "mimetype": "text/x-python",
   "name": "python",
   "nbconvert_exporter": "python",
   "pygments_lexer": "ipython3",
   "version": "3.7.0"
  }
 },
 "nbformat": 4,
 "nbformat_minor": 2
}
